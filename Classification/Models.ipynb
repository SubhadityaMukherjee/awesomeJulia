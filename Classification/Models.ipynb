{
 "cells": [
  {
   "cell_type": "code",
   "execution_count": 2,
   "metadata": {},
   "outputs": [],
   "source": [
    "## Classification of MNIST dataset \n",
    "## with the convolutional neural network know as LeNet5.\n",
    "## This script also combines various\n",
    "## packages from the Julia ecosystem  with Flux.\n",
    "using Flux\n",
    "using Flux.Data: DataLoader\n",
    "using Flux.Optimise: Optimiser, WeightDecay\n",
    "using Flux: onehotbatch, onecold, logitcrossentropy\n",
    "using Statistics, Random\n",
    "using Parameters: @with_kw\n",
    "using Logging: with_logger, global_logger\n",
    "using TensorBoardLogger: TBLogger, tb_overwrite, set_step!, set_step_increment!\n",
    "import ProgressMeter\n",
    "import MLDatasets\n",
    "import DrWatson: savename, struct2dict\n",
    "import BSON\n",
    "using CUDAapi"
   ]
  },
  {
   "cell_type": "code",
   "execution_count": 3,
   "metadata": {},
   "outputs": [
    {
     "data": {
      "text/plain": [
       "LeNet5 (generic function with 1 method)"
      ]
     },
     "execution_count": 3,
     "metadata": {},
     "output_type": "execute_result"
    }
   ],
   "source": [
    "# LeNet5 \"constructor\". \n",
    "# The model can be adapted to any image size\n",
    "# and number of output classes.\n",
    "function LeNet5(; imgsize=(64,64,3), nclasses=10) \n",
    "    out_conv_size = (imgsize[1]÷4 - 3, imgsize[2]÷4 - 3, 16)\n",
    "    \n",
    "    return Chain(\n",
    "            x -> reshape(x, imgsize..., :),\n",
    "            Conv((5, 5), imgsize[end]=>6, relu),\n",
    "            MaxPool((2, 2)),\n",
    "            Conv((5, 5), 6=>16, relu),\n",
    "            MaxPool((2, 2)),\n",
    "            x -> reshape(x, :, size(x, 4)),\n",
    "            Dense(prod(out_conv_size), 120, relu), \n",
    "            Dense(120, 84, relu), \n",
    "            Dense(84, nclasses)\n",
    "          )\n",
    "end"
   ]
  },
  {
   "cell_type": "code",
   "execution_count": 4,
   "metadata": {},
   "outputs": [
    {
     "data": {
      "text/plain": [
       "get_data (generic function with 1 method)"
      ]
     },
     "execution_count": 4,
     "metadata": {},
     "output_type": "execute_result"
    }
   ],
   "source": [
    "function get_data(args)\n",
    "    xtrain, ytrain = MLDatasets.CIFAR10.traindata(Float32, dir=args.datapath)\n",
    "    xtest, ytest = MLDatasets.CIFAR10.testdata(Float32, dir=args.datapath)\n",
    "\n",
    "    xtrain = reshape(xtrain, 64, 64, 3, :)\n",
    "    xtest = reshape(xtest, 64, 64, 3, :)\n",
    "\n",
    "    ytrain, ytest = onehotbatch(ytrain, 0:9), onehotbatch(ytest, 0:9)\n",
    "\n",
    "    train_loader = DataLoader(xtrain, ytrain, batchsize=args.batchsize, shuffle=true)\n",
    "    test_loader = DataLoader(xtest, ytest,  batchsize=args.batchsize)\n",
    "    \n",
    "    return train_loader, test_loader\n",
    "end"
   ]
  },
  {
   "cell_type": "code",
   "execution_count": 5,
   "metadata": {},
   "outputs": [
    {
     "data": {
      "text/plain": [
       "loss (generic function with 1 method)"
      ]
     },
     "execution_count": 5,
     "metadata": {},
     "output_type": "execute_result"
    }
   ],
   "source": [
    "loss(ŷ, y) = logitcrossentropy(ŷ, y)"
   ]
  },
  {
   "cell_type": "code",
   "execution_count": 6,
   "metadata": {},
   "outputs": [
    {
     "data": {
      "text/plain": [
       "eval_loss_accuracy (generic function with 1 method)"
      ]
     },
     "execution_count": 6,
     "metadata": {},
     "output_type": "execute_result"
    }
   ],
   "source": [
    "function eval_loss_accuracy(loader, model, device)\n",
    "    l = 0f0\n",
    "    acc = 0\n",
    "    ntot = 0\n",
    "    for (x, y) in loader\n",
    "        x, y = x |> device, y |> device\n",
    "        ŷ = model(x)\n",
    "        l += loss(ŷ, y) * size(x)[end]        \n",
    "        acc += sum(onecold(ŷ |> cpu) .== onecold(y |> cpu))\n",
    "        ntot += size(x)[end]\n",
    "    end\n",
    "    return (loss = l/ntot |> round4, acc = acc/ntot*100 |> round4)\n",
    "end"
   ]
  },
  {
   "cell_type": "code",
   "execution_count": 7,
   "metadata": {},
   "outputs": [
    {
     "data": {
      "text/plain": [
       "num_params (generic function with 1 method)"
      ]
     },
     "execution_count": 7,
     "metadata": {},
     "output_type": "execute_result"
    }
   ],
   "source": [
    "## utility functions\n",
    "\n",
    "num_params(model) = sum(length, Flux.params(model)) "
   ]
  },
  {
   "cell_type": "code",
   "execution_count": 8,
   "metadata": {},
   "outputs": [
    {
     "data": {
      "text/plain": [
       "round4 (generic function with 1 method)"
      ]
     },
     "execution_count": 8,
     "metadata": {},
     "output_type": "execute_result"
    }
   ],
   "source": [
    "round4(x) = round(x, digits=4)"
   ]
  },
  {
   "cell_type": "code",
   "execution_count": 9,
   "metadata": {},
   "outputs": [
    {
     "data": {
      "text/plain": [
       "Args"
      ]
     },
     "execution_count": 9,
     "metadata": {},
     "output_type": "execute_result"
    }
   ],
   "source": [
    "# arguments for the `train` function \n",
    "@with_kw mutable struct Args\n",
    "    η = 3e-4             # learning rate\n",
    "    λ = 0                # L2 regularizer param, implemented as weight decay\n",
    "    batchsize = 128      # batch size\n",
    "    epochs = 20          # number of epochs\n",
    "    seed = 0             # set seed > 0 for reproducibility\n",
    "    cuda = true          # if true use cuda (if available)\n",
    "    infotime = 1 \t     # report every `infotime` epochs\n",
    "    checktime = 10        # Save the model every `checktime` epochs. Set to 0 for no checkpoints.\n",
    "    tblogger = false      # log training with tensorboard\n",
    "    savepath = nothing    # results path. If nothing, construct a default path from Args. If existing, may overwrite\n",
    "    datapath = joinpath(homedir(), \"Datasets\", \"CIFAR10\") # data path: change to your data directory \n",
    "end"
   ]
  },
  {
   "cell_type": "code",
   "execution_count": 10,
   "metadata": {},
   "outputs": [
    {
     "data": {
      "text/plain": [
       "train (generic function with 1 method)"
      ]
     },
     "execution_count": 10,
     "metadata": {},
     "output_type": "execute_result"
    }
   ],
   "source": [
    "function train(; kws...)\n",
    "    args = Args(; kws...)\n",
    "    args.seed > 0 && Random.seed!(args.seed)\n",
    "    use_cuda = args.cuda && CUDAapi.has_cuda_gpu()\n",
    "    if use_cuda\n",
    "        device = gpu\n",
    "        @info \"Training on GPU\"\n",
    "    else\n",
    "        device = cpu\n",
    "        @info \"Training on CPU\"\n",
    "    end\n",
    "\n",
    "    ## DATA\n",
    "    train_loader, test_loader = get_data(args)\n",
    "    @info \"Dataset MNIST: $(train_loader.nobs) train and $(test_loader.nobs) test examples\"\n",
    "\n",
    "    ## MODEL AND OPTIMIZER\n",
    "    model = LeNet5() |> device\n",
    "    @info \"LeNet5 model: $(num_params(model)) trainable params\"    \n",
    "    \n",
    "    ps = Flux.params(model)  \n",
    "\n",
    "    opt = ADAMW(args.η) \n",
    "    if args.λ > 0 \n",
    "        opt = Optimiser(opt, WeightDecay(args.λ))\n",
    "    end\n",
    "    \n",
    "    ## LOGGING UTILITIES\n",
    "    if args.savepath == nothing\n",
    "        experiment_folder = savename(\"lenet\", args, scientific=4,\n",
    "                    accesses=[:batchsize, :η, :seed, :λ]) # construct path from these fields\n",
    "        args.savepath = joinpath(\"runs\", experiment_folder)\n",
    "    end\n",
    "    if args.tblogger \n",
    "        tblogger = TBLogger(args.savepath, tb_overwrite)\n",
    "        set_step_increment!(tblogger, 0) # 0 auto increment since we manually set_step!\n",
    "        @info \"TensorBoard logging at \\\"$(args.savepath)\\\"\"\n",
    "    end\n",
    "    \n",
    "    function report(epoch)\n",
    "        train = eval_loss_accuracy(train_loader, model, device)\n",
    "        test = eval_loss_accuracy(test_loader, model, device)        \n",
    "        println(\"Epoch: $epoch   Train: $(train)   Test: $(test)\")\n",
    "        if args.tblogger\n",
    "            set_step!(tblogger, epoch)\n",
    "            with_logger(tblogger) do\n",
    "                @info \"train\" loss=train.loss  acc=train.acc\n",
    "                @info \"test\"  loss=test.loss   acc=test.acc\n",
    "            end\n",
    "        end\n",
    "    end\n",
    "    \n",
    "    ## TRAINING\n",
    "    @info \"Start Training\"\n",
    "    report(0)\n",
    "    for epoch in 1:args.epochs\n",
    "        p = ProgressMeter.Progress(length(train_loader))\n",
    "\n",
    "        for (x, y) in train_loader\n",
    "            x, y = x |> device, y |> device\n",
    "            gs = Flux.gradient(ps) do\n",
    "                ŷ = model(x)\n",
    "                loss(ŷ, y)\n",
    "            end\n",
    "            Flux.Optimise.update!(opt, ps, gs)\n",
    "            ProgressMeter.next!(p)   # comment out for no progress bar\n",
    "        end\n",
    "        \n",
    "        epoch % args.infotime == 0 && report(epoch)\n",
    "        if args.checktime > 0 && epoch % args.checktime == 0\n",
    "            !ispath(args.savepath) && mkpath(args.savepath)\n",
    "            modelpath = joinpath(args.savepath, \"model.bson\") \n",
    "            let model=cpu(model), args=struct2dict(args)\n",
    "                BSON.@save modelpath model epoch args\n",
    "            end\n",
    "            @info \"Model saved in \\\"$(modelpath)\\\"\"\n",
    "        end\n",
    "    end\n",
    "end"
   ]
  },
  {
   "cell_type": "code",
   "execution_count": 11,
   "metadata": {
    "scrolled": true
   },
   "outputs": [
    {
     "name": "stderr",
     "output_type": "stream",
     "text": [
      "┌ Info: Training on GPU\n",
      "└ @ Main In[10]:7\n",
      "┌ Warning: The file \"/home/subhaditya/Datasets/CIFAR10/cifar-10-batches-bin/data_batch_1.bin\" does not exist, even though the dataset-specific folder does. This is an unusual situation that may have been caused by a manual creation of an empty folder, or manual deletion of the given file \"cifar-10-batches-bin/data_batch_1.bin\".\n",
      "└ @ MLDatasets /home/subhaditya/.julia/packages/MLDatasets/GU5Hj/src/download.jl:34\n",
      "┌ Info: Retriggering DataDeps.jl for \"CIFAR10\" to \"/home/subhaditya/Datasets/CIFAR10\".\n",
      "└ @ MLDatasets /home/subhaditya/.julia/packages/MLDatasets/GU5Hj/src/download.jl:39\n"
     ]
    },
    {
     "name": "stdout",
     "output_type": "stream",
     "text": [
      "This program has requested access to the data dependency CIFAR10.\n",
      "which is not currently installed. It can be installed automatically, and you will not see this message again.\n",
      "\n",
      "Dataset: The CIFAR-10 dataset\n",
      "Authors: Alex Krizhevsky, Vinod Nair, Geoffrey Hinton\n",
      "Website: https://www.cs.toronto.edu/~kriz/cifar.html\n",
      "Reference: https://www.cs.toronto.edu/~kriz/learning-features-2009-TR.pdf\n",
      "\n",
      "[Krizhevsky, 2009]\n",
      "    Alex Krizhevsky.\n",
      "    \"Learning Multiple Layers of Features from Tiny Images\",\n",
      "    Tech Report, 2009.\n",
      "\n",
      "The CIFAR-10 dataset is a labeled subsets of the 80\n",
      "million tiny images dataset. It consists of 60000\n",
      "32x32 colour images in 10 classes, with 6000 images\n",
      "per class.\n",
      "\n",
      "The compressed archive file that contains the\n",
      "complete dataset is available for download at the\n",
      "offical website linked above; specifically the binary\n",
      "version for C programs. Note that using the data\n",
      "responsibly and respecting copyright remains your\n",
      "responsibility. The authors of CIFAR-10 aren't really\n",
      "explicit about any terms of use, so please read the\n",
      "website to make sure you want to download the\n",
      "dataset.\n",
      "\n",
      "\n",
      "\n",
      "Do you want to download the dataset from https://www.cs.toronto.edu/~kriz/cifar-10-binary.tar.gz to \"/home/subhaditya/Datasets/CIFAR10\"?\n",
      "[y/n]\n"
     ]
    },
    {
     "name": "stdin",
     "output_type": "stream",
     "text": [
      "stdin>  y\n"
     ]
    },
    {
     "name": "stderr",
     "output_type": "stream",
     "text": [
      "┌ Info: Downloading\n",
      "│   source = https://www.cs.toronto.edu/~kriz/cifar-10-binary.tar.gz\n",
      "│   dest = /home/subhaditya/Datasets/CIFAR10/cifar-10-binary.tar.gz\n",
      "│   progress = 0.0066\n",
      "│   time_taken = 5.42 s\n",
      "│   time_remaining = 809.12 s\n",
      "│   average_speed = 203.878 KiB/s\n",
      "│   downloaded = 1.078 MiB\n",
      "│   remaining = 161.096 MiB\n",
      "│   total = 162.174 MiB\n",
      "└ @ HTTP /home/subhaditya/.julia/packages/HTTP/GkPBm/src/download.jl:119\n",
      "┌ Info: Downloading\n",
      "│   source = https://www.cs.toronto.edu/~kriz/cifar-10-binary.tar.gz\n",
      "│   dest = /home/subhaditya/Datasets/CIFAR10/cifar-10-binary.tar.gz\n",
      "│   progress = 0.0156\n",
      "│   time_taken = 10.54 s\n",
      "│   time_remaining = 664.49 s\n",
      "│   average_speed = 246.014 KiB/s\n",
      "│   downloaded = 2.531 MiB\n",
      "│   remaining = 159.643 MiB\n",
      "│   total = 162.174 MiB\n",
      "└ @ HTTP /home/subhaditya/.julia/packages/HTTP/GkPBm/src/download.jl:119\n",
      "┌ Info: Downloading\n",
      "│   source = https://www.cs.toronto.edu/~kriz/cifar-10-binary.tar.gz\n",
      "│   dest = /home/subhaditya/Datasets/CIFAR10/cifar-10-binary.tar.gz\n",
      "│   progress = 0.0237\n",
      "│   time_taken = 15.75 s\n",
      "│   time_remaining = 648.73 s\n",
      "│   average_speed = 249.921 KiB/s\n",
      "│   downloaded = 3.844 MiB\n",
      "│   remaining = 158.331 MiB\n",
      "│   total = 162.174 MiB\n",
      "└ @ HTTP /home/subhaditya/.julia/packages/HTTP/GkPBm/src/download.jl:119\n",
      "┌ Info: Downloading\n",
      "│   source = https://www.cs.toronto.edu/~kriz/cifar-10-binary.tar.gz\n",
      "│   dest = /home/subhaditya/Datasets/CIFAR10/cifar-10-binary.tar.gz\n",
      "│   progress = 0.0325\n",
      "│   time_taken = 20.97 s\n",
      "│   time_remaining = 624.97 s\n",
      "│   average_speed = 257.092 KiB/s\n",
      "│   downloaded = 5.266 MiB\n",
      "│   remaining = 156.909 MiB\n",
      "│   total = 162.174 MiB\n",
      "└ @ HTTP /home/subhaditya/.julia/packages/HTTP/GkPBm/src/download.jl:119\n",
      "┌ Info: Downloading\n",
      "│   source = https://www.cs.toronto.edu/~kriz/cifar-10-binary.tar.gz\n",
      "│   dest = /home/subhaditya/Datasets/CIFAR10/cifar-10-binary.tar.gz\n",
      "│   progress = 0.0412\n",
      "│   time_taken = 26.2 s\n",
      "│   time_remaining = 609.23 s\n",
      "│   average_speed = 261.344 KiB/s\n",
      "│   downloaded = 6.688 MiB\n",
      "│   remaining = 155.487 MiB\n",
      "│   total = 162.174 MiB\n",
      "└ @ HTTP /home/subhaditya/.julia/packages/HTTP/GkPBm/src/download.jl:119\n",
      "┌ Info: Downloading\n",
      "│   source = https://www.cs.toronto.edu/~kriz/cifar-10-binary.tar.gz\n",
      "│   dest = /home/subhaditya/Datasets/CIFAR10/cifar-10-binary.tar.gz\n",
      "│   progress = 0.0489\n",
      "│   time_taken = 31.21 s\n",
      "│   time_remaining = 606.51 s\n",
      "│   average_speed = 260.404 KiB/s\n",
      "│   downloaded = 7.938 MiB\n",
      "│   remaining = 154.237 MiB\n",
      "│   total = 162.174 MiB\n",
      "└ @ HTTP /home/subhaditya/.julia/packages/HTTP/GkPBm/src/download.jl:119\n",
      "┌ Info: Downloading\n",
      "│   source = https://www.cs.toronto.edu/~kriz/cifar-10-binary.tar.gz\n",
      "│   dest = /home/subhaditya/Datasets/CIFAR10/cifar-10-binary.tar.gz\n",
      "│   progress = 0.057\n",
      "│   time_taken = 36.44 s\n",
      "│   time_remaining = 602.36 s\n",
      "│   average_speed = 259.970 KiB/s\n",
      "│   downloaded = 9.250 MiB\n",
      "│   remaining = 152.924 MiB\n",
      "│   total = 162.174 MiB\n",
      "└ @ HTTP /home/subhaditya/.julia/packages/HTTP/GkPBm/src/download.jl:119\n",
      "┌ Info: Downloading\n",
      "│   source = https://www.cs.toronto.edu/~kriz/cifar-10-binary.tar.gz\n",
      "│   dest = /home/subhaditya/Datasets/CIFAR10/cifar-10-binary.tar.gz\n",
      "│   progress = 0.065\n",
      "│   time_taken = 41.45 s\n",
      "│   time_remaining = 595.95 s\n",
      "│   average_speed = 260.536 KiB/s\n",
      "│   downloaded = 10.547 MiB\n",
      "│   remaining = 151.628 MiB\n",
      "│   total = 162.174 MiB\n",
      "└ @ HTTP /home/subhaditya/.julia/packages/HTTP/GkPBm/src/download.jl:119\n",
      "┌ Info: Downloading\n",
      "│   source = https://www.cs.toronto.edu/~kriz/cifar-10-binary.tar.gz\n",
      "│   dest = /home/subhaditya/Datasets/CIFAR10/cifar-10-binary.tar.gz\n",
      "│   progress = 0.0728\n",
      "│   time_taken = 46.47 s\n",
      "│   time_remaining = 591.52 s\n",
      "│   average_speed = 260.297 KiB/s\n",
      "│   downloaded = 11.812 MiB\n",
      "│   remaining = 150.362 MiB\n",
      "│   total = 162.174 MiB\n",
      "└ @ HTTP /home/subhaditya/.julia/packages/HTTP/GkPBm/src/download.jl:119\n",
      "┌ Info: Downloading\n",
      "│   source = https://www.cs.toronto.edu/~kriz/cifar-10-binary.tar.gz\n",
      "│   dest = /home/subhaditya/Datasets/CIFAR10/cifar-10-binary.tar.gz\n",
      "│   progress = 0.081\n",
      "│   time_taken = 51.69 s\n",
      "│   time_remaining = 586.27 s\n",
      "│   average_speed = 260.306 KiB/s\n",
      "│   downloaded = 13.141 MiB\n",
      "│   remaining = 149.034 MiB\n",
      "│   total = 162.174 MiB\n",
      "└ @ HTTP /home/subhaditya/.julia/packages/HTTP/GkPBm/src/download.jl:119\n",
      "┌ Info: Downloading\n",
      "│   source = https://www.cs.toronto.edu/~kriz/cifar-10-binary.tar.gz\n",
      "│   dest = /home/subhaditya/Datasets/CIFAR10/cifar-10-binary.tar.gz\n",
      "│   progress = 0.0937\n",
      "│   time_taken = 56.72 s\n",
      "│   time_remaining = 548.37 s\n",
      "│   average_speed = 274.447 KiB/s\n",
      "│   downloaded = 15.203 MiB\n",
      "│   remaining = 146.971 MiB\n",
      "│   total = 162.174 MiB\n",
      "└ @ HTTP /home/subhaditya/.julia/packages/HTTP/GkPBm/src/download.jl:119\n",
      "┌ Info: Downloading\n",
      "│   source = https://www.cs.toronto.edu/~kriz/cifar-10-binary.tar.gz\n",
      "│   dest = /home/subhaditya/Datasets/CIFAR10/cifar-10-binary.tar.gz\n",
      "│   progress = 0.1112\n",
      "│   time_taken = 61.75 s\n",
      "│   time_remaining = 493.63 s\n",
      "│   average_speed = 299.012 KiB/s\n",
      "│   downloaded = 18.031 MiB\n",
      "│   remaining = 144.143 MiB\n",
      "│   total = 162.174 MiB\n",
      "└ @ HTTP /home/subhaditya/.julia/packages/HTTP/GkPBm/src/download.jl:119\n"
     ]
    },
    {
     "ename": "InterruptException",
     "evalue": "InterruptException:",
     "output_type": "error",
     "traceback": [
      "InterruptException:",
      "",
      "Stacktrace:",
      " [1] poptaskref(::Base.InvasiveLinkedListSynchronized{Task}) at ./task.jl:702",
      " [2] wait at ./task.jl:709 [inlined]",
      " [3] wait(::Base.GenericCondition{Base.Threads.SpinLock}) at ./condition.jl:106",
      " [4] wait_readnb(::Sockets.TCPSocket, ::Int64) at ./stream.jl:355",
      " [5] eof(::Sockets.TCPSocket) at ./stream.jl:48",
      " [6] wait_for_encrypted_data(::MbedTLS.SSLContext) at /home/subhaditya/.julia/packages/MbedTLS/VbsaQ/src/ssl.jl:374",
      " [7] wait_for_decrypted_data(::MbedTLS.SSLContext) at /home/subhaditya/.julia/packages/MbedTLS/VbsaQ/src/ssl.jl:294",
      " [8] eof at /home/subhaditya/.julia/packages/MbedTLS/VbsaQ/src/ssl.jl:186 [inlined]",
      " [9] eof(::HTTP.ConnectionPool.Transaction{MbedTLS.SSLContext}) at /home/subhaditya/.julia/packages/HTTP/GkPBm/src/ConnectionPool.jl:202",
      " [10] eof at /home/subhaditya/.julia/packages/HTTP/GkPBm/src/Streams.jl:193 [inlined]",
      " [11] (::HTTP.var\"#21#28\"{HTTP.Streams.Stream{HTTP.Messages.Response,HTTP.ConnectionPool.Transaction{MbedTLS.SSLContext}},HTTP.var\"#report_callback#27\"{Float64,Dates.DateTime,String,HTTP.var\"#format_progress#22\",HTTP.var\"#format_bytes#23\",HTTP.var\"#format_seconds#24\",HTTP.var\"#format_bytes_per_second#25\"{HTTP.var\"#format_bytes#23\"}},Float32})(::IOStream) at /home/subhaditya/.julia/packages/HTTP/GkPBm/src/download.jl:133",
      " [12] open(::HTTP.var\"#21#28\"{HTTP.Streams.Stream{HTTP.Messages.Response,HTTP.ConnectionPool.Transaction{MbedTLS.SSLContext}},HTTP.var\"#report_callback#27\"{Float64,Dates.DateTime,String,HTTP.var\"#format_progress#22\",HTTP.var\"#format_bytes#23\",HTTP.var\"#format_seconds#24\",HTTP.var\"#format_bytes_per_second#25\"{HTTP.var\"#format_bytes#23\"}},Float32}, ::String, ::Vararg{String,N} where N; kwargs::Base.Iterators.Pairs{Union{},Union{},Tuple{},NamedTuple{(),Tuple{}}}) at ./io.jl:298",
      " [13] open(::Function, ::String, ::String) at ./io.jl:296",
      " [14] (::HTTP.var\"#20#26\"{Float32,String,String,HTTP.var\"#format_progress#22\",HTTP.var\"#format_bytes#23\",HTTP.var\"#format_seconds#24\",HTTP.var\"#format_bytes_per_second#25\"{HTTP.var\"#format_bytes#23\"}})(::HTTP.Streams.Stream{HTTP.Messages.Response,HTTP.ConnectionPool.Transaction{MbedTLS.SSLContext}}) at /home/subhaditya/.julia/packages/HTTP/GkPBm/src/download.jl:132",
      " [15] macro expansion at /home/subhaditya/.julia/packages/HTTP/GkPBm/src/StreamRequest.jl:69 [inlined]",
      " [16] macro expansion at ./task.jl:334 [inlined]",
      " [17] request(::Type{HTTP.StreamRequest.StreamLayer{Union{}}}, ::HTTP.ConnectionPool.Transaction{MbedTLS.SSLContext}, ::HTTP.Messages.Request, ::Nothing; response_stream::Nothing, iofunction::HTTP.var\"#20#26\"{Float32,String,String,HTTP.var\"#format_progress#22\",HTTP.var\"#format_bytes#23\",HTTP.var\"#format_seconds#24\",HTTP.var\"#format_bytes_per_second#25\"{HTTP.var\"#format_bytes#23\"}}, verbose::Int64, kw::Base.Iterators.Pairs{Union{},Union{},Tuple{},NamedTuple{(),Tuple{}}}) at /home/subhaditya/.julia/packages/HTTP/GkPBm/src/StreamRequest.jl:56",
      " [18] request(::Type{HTTP.ConnectionRequest.ConnectionPoolLayer{HTTP.StreamRequest.StreamLayer{Union{}}}}, ::HTTP.URIs.URI, ::HTTP.Messages.Request, ::Nothing; proxy::Nothing, socket_type::Type{T} where T, reuse_limit::Int64, kw::Base.Iterators.Pairs{Symbol,HTTP.var\"#20#26\"{Float32,String,String,HTTP.var\"#format_progress#22\",HTTP.var\"#format_bytes#23\",HTTP.var\"#format_seconds#24\",HTTP.var\"#format_bytes_per_second#25\"{HTTP.var\"#format_bytes#23\"}},Tuple{Symbol},NamedTuple{(:iofunction,),Tuple{HTTP.var\"#20#26\"{Float32,String,String,HTTP.var\"#format_progress#22\",HTTP.var\"#format_bytes#23\",HTTP.var\"#format_seconds#24\",HTTP.var\"#format_bytes_per_second#25\"{HTTP.var\"#format_bytes#23\"}}}}}) at /home/subhaditya/.julia/packages/HTTP/GkPBm/src/ConnectionRequest.jl:89",
      " [19] request(::Type{HTTP.ExceptionRequest.ExceptionLayer{HTTP.ConnectionRequest.ConnectionPoolLayer{HTTP.StreamRequest.StreamLayer{Union{}}}}}, ::HTTP.URIs.URI, ::Vararg{Any,N} where N; kw::Base.Iterators.Pairs{Symbol,HTTP.var\"#20#26\"{Float32,String,String,HTTP.var\"#format_progress#22\",HTTP.var\"#format_bytes#23\",HTTP.var\"#format_seconds#24\",HTTP.var\"#format_bytes_per_second#25\"{HTTP.var\"#format_bytes#23\"}},Tuple{Symbol},NamedTuple{(:iofunction,),Tuple{HTTP.var\"#20#26\"{Float32,String,String,HTTP.var\"#format_progress#22\",HTTP.var\"#format_bytes#23\",HTTP.var\"#format_seconds#24\",HTTP.var\"#format_bytes_per_second#25\"{HTTP.var\"#format_bytes#23\"}}}}}) at /home/subhaditya/.julia/packages/HTTP/GkPBm/src/ExceptionRequest.jl:19",
      " [20] (::Base.var\"#58#60\"{Base.var\"#58#59#61\"{ExponentialBackOff,HTTP.RetryRequest.var\"#2#3\"{Bool,HTTP.Messages.Request},typeof(HTTP.request)}})(::Type{T} where T, ::Vararg{Any,N} where N; kwargs::Base.Iterators.Pairs{Symbol,HTTP.var\"#20#26\"{Float32,String,String,HTTP.var\"#format_progress#22\",HTTP.var\"#format_bytes#23\",HTTP.var\"#format_seconds#24\",HTTP.var\"#format_bytes_per_second#25\"{HTTP.var\"#format_bytes#23\"}},Tuple{Symbol},NamedTuple{(:iofunction,),Tuple{HTTP.var\"#20#26\"{Float32,String,String,HTTP.var\"#format_progress#22\",HTTP.var\"#format_bytes#23\",HTTP.var\"#format_seconds#24\",HTTP.var\"#format_bytes_per_second#25\"{HTTP.var\"#format_bytes#23\"}}}}}) at ./error.jl:288",
      " [21] #request#1 at /home/subhaditya/.julia/packages/HTTP/GkPBm/src/RetryRequest.jl:44 [inlined]",
      " [22] request(::Type{HTTP.MessageRequest.MessageLayer{HTTP.RetryRequest.RetryLayer{HTTP.ExceptionRequest.ExceptionLayer{HTTP.ConnectionRequest.ConnectionPoolLayer{HTTP.StreamRequest.StreamLayer{Union{}}}}}}}, ::String, ::HTTP.URIs.URI, ::Array{Pair{SubString{String},SubString{String}},1}, ::Nothing; http_version::VersionNumber, target::String, parent::Nothing, iofunction::Function, kw::Base.Iterators.Pairs{Union{},Union{},Tuple{},NamedTuple{(),Tuple{}}}) at /home/subhaditya/.julia/packages/HTTP/GkPBm/src/MessageRequest.jl:51",
      " [23] request(::Type{HTTP.BasicAuthRequest.BasicAuthLayer{HTTP.MessageRequest.MessageLayer{HTTP.RetryRequest.RetryLayer{HTTP.ExceptionRequest.ExceptionLayer{HTTP.ConnectionRequest.ConnectionPoolLayer{HTTP.StreamRequest.StreamLayer{Union{}}}}}}}}, ::String, ::HTTP.URIs.URI, ::Array{Pair{SubString{String},SubString{String}},1}, ::Nothing; kw::Base.Iterators.Pairs{Symbol,HTTP.var\"#20#26\"{Float32,String,String,HTTP.var\"#format_progress#22\",HTTP.var\"#format_bytes#23\",HTTP.var\"#format_seconds#24\",HTTP.var\"#format_bytes_per_second#25\"{HTTP.var\"#format_bytes#23\"}},Tuple{Symbol},NamedTuple{(:iofunction,),Tuple{HTTP.var\"#20#26\"{Float32,String,String,HTTP.var\"#format_progress#22\",HTTP.var\"#format_bytes#23\",HTTP.var\"#format_seconds#24\",HTTP.var\"#format_bytes_per_second#25\"{HTTP.var\"#format_bytes#23\"}}}}}) at /home/subhaditya/.julia/packages/HTTP/GkPBm/src/BasicAuthRequest.jl:28",
      " [24] request(::Type{HTTP.RedirectRequest.RedirectLayer{HTTP.BasicAuthRequest.BasicAuthLayer{HTTP.MessageRequest.MessageLayer{HTTP.RetryRequest.RetryLayer{HTTP.ExceptionRequest.ExceptionLayer{HTTP.ConnectionRequest.ConnectionPoolLayer{HTTP.StreamRequest.StreamLayer{Union{}}}}}}}}}, ::String, ::HTTP.URIs.URI, ::Array{Pair{SubString{String},SubString{String}},1}, ::Nothing; redirect_limit::Int64, forwardheaders::Bool, kw::Base.Iterators.Pairs{Symbol,HTTP.var\"#20#26\"{Float32,String,String,HTTP.var\"#format_progress#22\",HTTP.var\"#format_bytes#23\",HTTP.var\"#format_seconds#24\",HTTP.var\"#format_bytes_per_second#25\"{HTTP.var\"#format_bytes#23\"}},Tuple{Symbol},NamedTuple{(:iofunction,),Tuple{HTTP.var\"#20#26\"{Float32,String,String,HTTP.var\"#format_progress#22\",HTTP.var\"#format_bytes#23\",HTTP.var\"#format_seconds#24\",HTTP.var\"#format_bytes_per_second#25\"{HTTP.var\"#format_bytes#23\"}}}}}) at /home/subhaditya/.julia/packages/HTTP/GkPBm/src/RedirectRequest.jl:24",
      " [25] request(::String, ::String, ::Array{Pair{SubString{String},SubString{String}},1}, ::Nothing; headers::Array{Pair{SubString{String},SubString{String}},1}, body::Nothing, query::Nothing, kw::Base.Iterators.Pairs{Symbol,HTTP.var\"#20#26\"{Float32,String,String,HTTP.var\"#format_progress#22\",HTTP.var\"#format_bytes#23\",HTTP.var\"#format_seconds#24\",HTTP.var\"#format_bytes_per_second#25\"{HTTP.var\"#format_bytes#23\"}},Tuple{Symbol},NamedTuple{(:iofunction,),Tuple{HTTP.var\"#20#26\"{Float32,String,String,HTTP.var\"#format_progress#22\",HTTP.var\"#format_bytes#23\",HTTP.var\"#format_seconds#24\",HTTP.var\"#format_bytes_per_second#25\"{HTTP.var\"#format_bytes#23\"}}}}}) at /home/subhaditya/.julia/packages/HTTP/GkPBm/src/HTTP.jl:314",
      " [26] #open#6 at /home/subhaditya/.julia/packages/HTTP/GkPBm/src/HTTP.jl:346 [inlined]",
      " [27] open at /home/subhaditya/.julia/packages/HTTP/GkPBm/src/HTTP.jl:346 [inlined]",
      " [28] #download#19 at /home/subhaditya/.julia/packages/HTTP/GkPBm/src/download.jl:101 [inlined]",
      " [29] #fetch_http#26 at /home/subhaditya/.julia/packages/DataDeps/gbyoa/src/fetch_helpers.jl:80 [inlined]",
      " [30] fetch_http at /home/subhaditya/.julia/packages/DataDeps/gbyoa/src/fetch_helpers.jl:79 [inlined]",
      " [31] fetch_default(::String, ::String) at /home/subhaditya/.julia/packages/DataDeps/gbyoa/src/fetch_helpers.jl:33",
      " [32] run_fetch at /home/subhaditya/.julia/packages/DataDeps/gbyoa/src/resolution_automatic.jl:99 [inlined]",
      " [33] download(::DataDeps.DataDep{String,String,typeof(DataDeps.fetch_default),MLDatasets.CIFAR10.var\"#20#21\"}, ::String; remotepath::String, i_accept_the_terms_of_use::Nothing, skip_checksum::Bool) at /home/subhaditya/.julia/packages/DataDeps/gbyoa/src/resolution_automatic.jl:78",
      " [34] download(::DataDeps.DataDep{String,String,typeof(DataDeps.fetch_default),MLDatasets.CIFAR10.var\"#20#21\"}, ::String) at /home/subhaditya/.julia/packages/DataDeps/gbyoa/src/resolution_automatic.jl:70",
      " [35] download_dep(::String, ::String; kw::Base.Iterators.Pairs{Union{},Union{},Tuple{},NamedTuple{(),Tuple{}}}) at /home/subhaditya/.julia/packages/MLDatasets/GU5Hj/src/download.jl:53",
      " [36] download_dep at /home/subhaditya/.julia/packages/MLDatasets/GU5Hj/src/download.jl:53 [inlined]",
      " [37] datafile(::String, ::String, ::String; recurse::Bool, kw::Base.Iterators.Pairs{Union{},Union{},Tuple{},NamedTuple{(),Tuple{}}}) at /home/subhaditya/.julia/packages/MLDatasets/GU5Hj/src/download.jl:40",
      " [38] datafile at /home/subhaditya/.julia/packages/MLDatasets/GU5Hj/src/download.jl:32 [inlined]",
      " [39] #traindata#9 at /home/subhaditya/.julia/packages/MLDatasets/GU5Hj/src/CIFAR10/interface.jl:249 [inlined]",
      " [40] get_data(::Args) at ./In[4]:2",
      " [41] train(; kws::Base.Iterators.Pairs{Union{},Union{},Tuple{},NamedTuple{(),Tuple{}}}) at ./In[10]:14",
      " [42] train() at ./In[10]:2",
      " [43] top-level scope at In[11]:1"
     ]
    }
   ],
   "source": [
    "train()"
   ]
  },
  {
   "cell_type": "code",
   "execution_count": null,
   "metadata": {},
   "outputs": [],
   "source": []
  },
  {
   "cell_type": "code",
   "execution_count": null,
   "metadata": {},
   "outputs": [],
   "source": []
  },
  {
   "cell_type": "code",
   "execution_count": null,
   "metadata": {},
   "outputs": [],
   "source": []
  },
  {
   "cell_type": "code",
   "execution_count": null,
   "metadata": {},
   "outputs": [],
   "source": []
  },
  {
   "cell_type": "code",
   "execution_count": null,
   "metadata": {},
   "outputs": [],
   "source": []
  },
  {
   "cell_type": "code",
   "execution_count": null,
   "metadata": {},
   "outputs": [],
   "source": []
  }
 ],
 "metadata": {
  "kernelspec": {
   "display_name": "Julia 1.4.1",
   "language": "julia",
   "name": "julia-1.4"
  },
  "language_info": {
   "file_extension": ".jl",
   "mimetype": "application/julia",
   "name": "julia",
   "version": "1.4.1"
  }
 },
 "nbformat": 4,
 "nbformat_minor": 4
}
